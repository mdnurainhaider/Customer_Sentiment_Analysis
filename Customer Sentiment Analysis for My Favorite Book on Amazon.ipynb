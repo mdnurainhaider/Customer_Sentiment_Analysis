{
 "cells": [
  {
   "cell_type": "markdown",
   "id": "2f8b083a",
   "metadata": {},
   "source": [
    "# Problem Statement\n",
    "An e-commerce company wants to improve customer satisfaction by understanding the sentiment behind customer reviews. They aim to identify key factors influencing positive and negative sentiments to enhance their products and services accordingly."
   ]
  },
  {
   "cell_type": "markdown",
   "id": "f7428220",
   "metadata": {},
   "source": [
    "# Project Scenario\n",
    "Recently, I finished reading the life-changing book \"Atomic Habits\" by James Clear. As this book significantly altered my daily life, work habits, and ability to build positive routines, I became curious about others' perspectives. After searching online, I found the book on Amazon and noticed a mix of reviews from readers. Inspired by this, I devised a plan to scrape these reviews, analyze the sentiments expressed by customers, and identify the factors influencing both positive and negative feedback."
   ]
  },
  {
   "cell_type": "markdown",
   "id": "2e90fd61",
   "metadata": {},
   "source": [
    "# Project Goal\n",
    "- Analyze customer sentiment from e-commerce website (Amazon) reviews to understand factors driving feedback.\n",
    "- Provide insights into customer preferences and concerns for data driven decision-making."
   ]
  },
  {
   "cell_type": "markdown",
   "id": "04ffc48d",
   "metadata": {},
   "source": [
    "## Deliverables\n",
    "- Data Collection: extract customer reviews and additional data from popular e-commerce websites.\n",
    "- Data Cleaning & Preprocessing: Handle missing values, duplicates, and irrelevant features; perform text preprocessing tasks.\n",
    "- Sentiment Analysis: Analyze sentiment using NLP techniques.\n",
    "- Feature Engineering: Extract features from text data and incorporate additional features.\n",
    "- Machine Learning Modeling: Build models to predict sentiment.\n",
    "- Data Visualization and Interpretation: Visualize sentiment analysis results and feature importance.\n",
    "- Solution and Recommendations: Summarize findings and provide actionable recommendations."
   ]
  },
  {
   "cell_type": "markdown",
   "id": "1079864b",
   "metadata": {},
   "source": [
    "# Stakeholders: WHY CUSTOMER SENTIMENT ANALYSIS?\n",
    "\n",
    "1. **Retailers**: Whether it's on Amazon, Flipkart, or Shopify, retailers can benefit greatly from understanding customer sentiments. By learning from this project, they can refine their product offerings and marketing strategies to create happier customers and drive more sales.\n",
    "\n",
    "2. **Authors & Publishers**: Understanding how readers feel about their work is vital for authors and publishers. By uncovering insights from customer sentiments, they can improve future books, connect better with their audience, and boost sales and loyalty.\n",
    "\n",
    "3. **Data Enthusiasts**: Scraping Amazon reviews was no easy feat, and I realized there's a lack of accessible tutorials out there. So, I'm creating a comprehensive guide to help others navigate through similar challenges and empower fellow data enthusiasts in their projects."
   ]
  },
  {
   "cell_type": "markdown",
   "id": "b02adf79",
   "metadata": {},
   "source": [
    "# PART ONE: Data Scraping\n"
   ]
  },
  {
   "cell_type": "markdown",
   "id": "ae8e9326",
   "metadata": {},
   "source": [
    "# Step One: Data Collection\n",
    "### Tasks\n",
    "- Extract customer reviews and additional data from Amazon."
   ]
  },
  {
   "cell_type": "markdown",
   "id": "11ad1784",
   "metadata": {},
   "source": [
    "**What are the available ways to Scrape data?**\n",
    "\n",
    "- I used **BeautifulSoup** in this project. It is the most popular package in python used to parse HTML & XML data.\n",
    "- Scrapy: Scrapy is a powerful and flexible framework for web scraping in Python.\n",
    "- Selenium: a popular tool, Selenium is particularly useful for scraping websites that use JavaScript to generate content dynamically.\n",
    "- Puppeteer (for JavaScript): provides a high-level API for controlling headless Chrome or Chromium browsers. It can be used for tasks such as web scraping, automated testing, and generating screenshots of web pages.\n",
    "- APIs: Some websites offer APIs (Application Programming Interfaces) that allow developers to access data in a structured format without needing to scrape HTML.\n",
    "- Commercial scraping tools: Tools such as Mozenda, ParseHub, and Content Grabber, which offer features like point-and-click interfaces, scheduling, and data export options.\n",
    "- Autoparser: automate web scrapping \n",
    "- Octoparse: an easy tool to use without any coding\n",
    "- AI tools: If you're using Chatgpt 4, you can simply upload the Amazon HTML file and give a prompt, it will do the work for you.\n",
    "\n",
    "Now, it's your choice to get your hands dirty with some coding or let tools work for you.... :) "
   ]
  },
  {
   "cell_type": "markdown",
   "id": "597d7589",
   "metadata": {},
   "source": [
    "### Imports\n",
    "For the initial phase of data scraping in our project, we import numpy and pandas for data manipulation tasks, BeautifulSoup for parsing HTML documents, and requests for making HTTP requests to fetch web pages. These libraries collectively provide the necessary tools to efficiently extract and manipulate data from web sources for further analysis."
   ]
  },
  {
   "cell_type": "code",
   "execution_count": 1,
   "id": "6dbd5c00",
   "metadata": {},
   "outputs": [],
   "source": [
    "# Imports\n",
    "import numpy as np\n",
    "import pandas as pd"
   ]
  },
  {
   "cell_type": "code",
   "execution_count": 2,
   "id": "275a0ba1",
   "metadata": {},
   "outputs": [],
   "source": [
    "df = pd.read_excel(\"C:/Users/haide/Downloads/CustomerReviews.xlsx\")"
   ]
  },
  {
   "cell_type": "code",
   "execution_count": 3,
   "id": "1079c321",
   "metadata": {},
   "outputs": [
    {
     "data": {
      "text/html": [
       "<div>\n",
       "<style scoped>\n",
       "    .dataframe tbody tr th:only-of-type {\n",
       "        vertical-align: middle;\n",
       "    }\n",
       "\n",
       "    .dataframe tbody tr th {\n",
       "        vertical-align: top;\n",
       "    }\n",
       "\n",
       "    .dataframe thead th {\n",
       "        text-align: right;\n",
       "    }\n",
       "</style>\n",
       "<table border=\"1\" class=\"dataframe\">\n",
       "  <thead>\n",
       "    <tr style=\"text-align: right;\">\n",
       "      <th></th>\n",
       "      <th>Unnamed: 0</th>\n",
       "      <th>Reviews</th>\n",
       "    </tr>\n",
       "  </thead>\n",
       "  <tbody>\n",
       "    <tr>\n",
       "      <th>0</th>\n",
       "      <td>0</td>\n",
       "      <td>I previously wrote this review right after rea...</td>\n",
       "    </tr>\n",
       "    <tr>\n",
       "      <th>1</th>\n",
       "      <td>1</td>\n",
       "      <td>\"Atomic Habits\" by James Clear is a transforma...</td>\n",
       "    </tr>\n",
       "    <tr>\n",
       "      <th>2</th>\n",
       "      <td>2</td>\n",
       "      <td>I've read a lot of books on changing behavior ...</td>\n",
       "    </tr>\n",
       "    <tr>\n",
       "      <th>3</th>\n",
       "      <td>3</td>\n",
       "      <td>Very insightful and easy to read. It’s crazy h...</td>\n",
       "    </tr>\n",
       "    <tr>\n",
       "      <th>4</th>\n",
       "      <td>4</td>\n",
       "      <td>\"Atomic Habits\" by James Clear is pretty much ...</td>\n",
       "    </tr>\n",
       "  </tbody>\n",
       "</table>\n",
       "</div>"
      ],
      "text/plain": [
       "   Unnamed: 0                                            Reviews\n",
       "0           0  I previously wrote this review right after rea...\n",
       "1           1  \"Atomic Habits\" by James Clear is a transforma...\n",
       "2           2  I've read a lot of books on changing behavior ...\n",
       "3           3  Very insightful and easy to read. It’s crazy h...\n",
       "4           4  \"Atomic Habits\" by James Clear is pretty much ..."
      ]
     },
     "execution_count": 3,
     "metadata": {},
     "output_type": "execute_result"
    }
   ],
   "source": [
    "df.head()"
   ]
  },
  {
   "cell_type": "code",
   "execution_count": 4,
   "id": "a1aab7c6",
   "metadata": {},
   "outputs": [
    {
     "data": {
      "text/plain": [
       "(4610, 2)"
      ]
     },
     "execution_count": 4,
     "metadata": {},
     "output_type": "execute_result"
    }
   ],
   "source": [
    "df.shape"
   ]
  },
  {
   "cell_type": "code",
   "execution_count": 5,
   "id": "3f642d67",
   "metadata": {},
   "outputs": [
    {
     "data": {
      "text/plain": [
       "(4610, 2)"
      ]
     },
     "execution_count": 5,
     "metadata": {},
     "output_type": "execute_result"
    }
   ],
   "source": [
    "# drop rows with missing values\n",
    "df.dropna(inplace=True)\n",
    "df.shape"
   ]
  },
  {
   "cell_type": "code",
   "execution_count": 6,
   "id": "e6895668",
   "metadata": {},
   "outputs": [
    {
     "name": "stdout",
     "output_type": "stream",
     "text": [
      "<class 'pandas.core.frame.DataFrame'>\n",
      "RangeIndex: 4610 entries, 0 to 4609\n",
      "Data columns (total 2 columns):\n",
      " #   Column      Non-Null Count  Dtype \n",
      "---  ------      --------------  ----- \n",
      " 0   Unnamed: 0  4610 non-null   int64 \n",
      " 1   Reviews     4610 non-null   object\n",
      "dtypes: int64(1), object(1)\n",
      "memory usage: 72.2+ KB\n"
     ]
    }
   ],
   "source": [
    "df.info()"
   ]
  },
  {
   "cell_type": "markdown",
   "id": "3e77ffd6",
   "metadata": {},
   "source": [
    "# Part Two: Sentiment Analysis with NLP"
   ]
  },
  {
   "cell_type": "code",
   "execution_count": null,
   "id": "21757f17",
   "metadata": {},
   "outputs": [],
   "source": []
  },
  {
   "cell_type": "markdown",
   "id": "a395c6aa",
   "metadata": {},
   "source": [
    "### Imports\n",
    "I imported **NLTK** (Natural Language Toolkit) to handle various natural language processing tasks, such as tokenizing text into words, which is crucial for breaking down customer  reviews into analyzable components. After that, I included **stopwords** from NLTK to filter out common words that do not contribute much meaning to the sentiment analysis, allowing the focus to remain on more significant words. Next, I used **word_tokenize** to split text into individual words, making it easier to perform further processing like removing stopwords and stemming. Then, I incorporated **PorterStemmer** to reduce words to their base forms and **WordNetLemmatizer** for linguistically accurate base forms, which helps in normalizing the text data. Last but not the least, I imported the **String** module to remove punctuation from the text, ensuring a cleaner dataset for **Sentiment Analysis**. "
   ]
  },
  {
   "cell_type": "code",
   "execution_count": 7,
   "id": "01942805",
   "metadata": {},
   "outputs": [],
   "source": [
    "# Imports\n",
    "import nltk\n",
    "from nltk.corpus import stopwords\n",
    "from nltk.tokenize import word_tokenize\n",
    "from nltk.stem import PorterStemmer, WordNetLemmatizer\n",
    "\n",
    "import string"
   ]
  },
  {
   "cell_type": "markdown",
   "id": "16f0e074",
   "metadata": {},
   "source": [
    "The next step is to downloading the resources into the notebook. I downloaded essential NLTK resources including **punkt** for tokenizing text, **stopwords** for filtering out common words, **wordnet** for lemmatization, and **omw-1.4** for accessing wordnet's multilingual data. "
   ]
  },
  {
   "cell_type": "code",
   "execution_count": 8,
   "id": "dc337970",
   "metadata": {},
   "outputs": [
    {
     "name": "stderr",
     "output_type": "stream",
     "text": [
      "[nltk_data] Downloading package punkt to\n",
      "[nltk_data]     C:\\Users\\haide\\AppData\\Roaming\\nltk_data...\n",
      "[nltk_data]   Package punkt is already up-to-date!\n",
      "[nltk_data] Downloading package stopwords to\n",
      "[nltk_data]     C:\\Users\\haide\\AppData\\Roaming\\nltk_data...\n",
      "[nltk_data]   Package stopwords is already up-to-date!\n",
      "[nltk_data] Downloading package wordnet to\n",
      "[nltk_data]     C:\\Users\\haide\\AppData\\Roaming\\nltk_data...\n",
      "[nltk_data]   Package wordnet is already up-to-date!\n",
      "[nltk_data] Downloading package omw-1.4 to\n",
      "[nltk_data]     C:\\Users\\haide\\AppData\\Roaming\\nltk_data...\n",
      "[nltk_data]   Package omw-1.4 is already up-to-date!\n"
     ]
    },
    {
     "data": {
      "text/plain": [
       "True"
      ]
     },
     "execution_count": 8,
     "metadata": {},
     "output_type": "execute_result"
    }
   ],
   "source": [
    "# Download NLTK resources\n",
    "nltk.download('punkt')\n",
    "nltk.download('stopwords')\n",
    "nltk.download('wordnet')\n",
    "nltk.download('omw-1.4')"
   ]
  },
  {
   "cell_type": "markdown",
   "id": "c7acc376",
   "metadata": {},
   "source": [
    "The dataset contains 4,610 customer reviews of the book 'Atomic Habits,' with two columns: an index and the review text. Let's explore the data in the reviews column. To do this, I **tokenized the text by converting it to lowercase and splitting it into individual words.**"
   ]
  },
  {
   "cell_type": "code",
   "execution_count": 9,
   "id": "041630ec",
   "metadata": {},
   "outputs": [
    {
     "data": {
      "text/html": [
       "<div>\n",
       "<style scoped>\n",
       "    .dataframe tbody tr th:only-of-type {\n",
       "        vertical-align: middle;\n",
       "    }\n",
       "\n",
       "    .dataframe tbody tr th {\n",
       "        vertical-align: top;\n",
       "    }\n",
       "\n",
       "    .dataframe thead th {\n",
       "        text-align: right;\n",
       "    }\n",
       "</style>\n",
       "<table border=\"1\" class=\"dataframe\">\n",
       "  <thead>\n",
       "    <tr style=\"text-align: right;\">\n",
       "      <th></th>\n",
       "      <th>Unnamed: 0</th>\n",
       "      <th>Reviews</th>\n",
       "      <th>text_tokens</th>\n",
       "    </tr>\n",
       "  </thead>\n",
       "  <tbody>\n",
       "    <tr>\n",
       "      <th>0</th>\n",
       "      <td>0</td>\n",
       "      <td>I previously wrote this review right after rea...</td>\n",
       "      <td>[i, previously, wrote, this, review, right, af...</td>\n",
       "    </tr>\n",
       "    <tr>\n",
       "      <th>1</th>\n",
       "      <td>1</td>\n",
       "      <td>\"Atomic Habits\" by James Clear is a transforma...</td>\n",
       "      <td>[``, atomic, habits, '', by, james, clear, is,...</td>\n",
       "    </tr>\n",
       "    <tr>\n",
       "      <th>2</th>\n",
       "      <td>2</td>\n",
       "      <td>I've read a lot of books on changing behavior ...</td>\n",
       "      <td>[i, 've, read, a, lot, of, books, on, changing...</td>\n",
       "    </tr>\n",
       "    <tr>\n",
       "      <th>3</th>\n",
       "      <td>3</td>\n",
       "      <td>Very insightful and easy to read. It’s crazy h...</td>\n",
       "      <td>[very, insightful, and, easy, to, read, ., it,...</td>\n",
       "    </tr>\n",
       "    <tr>\n",
       "      <th>4</th>\n",
       "      <td>4</td>\n",
       "      <td>\"Atomic Habits\" by James Clear is pretty much ...</td>\n",
       "      <td>[``, atomic, habits, '', by, james, clear, is,...</td>\n",
       "    </tr>\n",
       "  </tbody>\n",
       "</table>\n",
       "</div>"
      ],
      "text/plain": [
       "   Unnamed: 0                                            Reviews  \\\n",
       "0           0  I previously wrote this review right after rea...   \n",
       "1           1  \"Atomic Habits\" by James Clear is a transforma...   \n",
       "2           2  I've read a lot of books on changing behavior ...   \n",
       "3           3  Very insightful and easy to read. It’s crazy h...   \n",
       "4           4  \"Atomic Habits\" by James Clear is pretty much ...   \n",
       "\n",
       "                                         text_tokens  \n",
       "0  [i, previously, wrote, this, review, right, af...  \n",
       "1  [``, atomic, habits, '', by, james, clear, is,...  \n",
       "2  [i, 've, read, a, lot, of, books, on, changing...  \n",
       "3  [very, insightful, and, easy, to, read, ., it,...  \n",
       "4  [``, atomic, habits, '', by, james, clear, is,...  "
      ]
     },
     "execution_count": 9,
     "metadata": {},
     "output_type": "execute_result"
    }
   ],
   "source": [
    "# Tokenization\n",
    "df['text_tokens'] = df['Reviews'].apply(lambda x: word_tokenize(x.lower()))\n",
    "df.head()"
   ]
  },
  {
   "cell_type": "code",
   "execution_count": 10,
   "id": "401b4918",
   "metadata": {},
   "outputs": [
    {
     "data": {
      "text/plain": [
       "0    [i, previously, wrote, this, review, right, af...\n",
       "1    [``, atomic, habits, '', by, james, clear, is,...\n",
       "2    [i, 've, read, a, lot, of, books, on, changing...\n",
       "3    [very, insightful, and, easy, to, read, ., it,...\n",
       "4    [``, atomic, habits, '', by, james, clear, is,...\n",
       "Name: text_tokens, dtype: object"
      ]
     },
     "execution_count": 10,
     "metadata": {},
     "output_type": "execute_result"
    }
   ],
   "source": [
    "df['text_tokens'].head()"
   ]
  },
  {
   "cell_type": "code",
   "execution_count": 11,
   "id": "439d066f",
   "metadata": {},
   "outputs": [],
   "source": [
    "# remove stop and punctuation\n",
    "stop_words = set(stopwords.words('english'))\n",
    "punctuation = set(string.punctuation)\n",
    "filtered_tokens = []\n",
    "\n",
    "for tokens in df['text_tokens']:\n",
    "    filtered_tokens.append([word for word in tokens if word not in stop_words and word not in punctuation])"
   ]
  },
  {
   "cell_type": "markdown",
   "id": "571f8d03",
   "metadata": {},
   "source": [
    "In this step, I initialized a set of **English stopwords** using NLTK's stopwords module and a set of **punctuation marks** using Python's string module. These sets are crucial for filtering out **irrelevant words** and **symbols** from the tokenized text data stored in previous column **text_tokens** in our dataframe. I then iterated through each token list in the dataframe, excluding both stopwords and punctuation from the filtered tokens, and stored the results in the **filtered_tokens** list."
   ]
  },
  {
   "cell_type": "code",
   "execution_count": 12,
   "id": "d25c08a8",
   "metadata": {},
   "outputs": [],
   "source": [
    "# Stemming\n",
    "stemmer = PorterStemmer()\n",
    "stemmed_tokens = []\n",
    "for tokens in filtered_tokens:\n",
    "    stemmed_tokens.append([stemmer.stem(word) for word in tokens])"
   ]
  },
  {
   "cell_type": "markdown",
   "id": "49364a72",
   "metadata": {},
   "source": [
    "Here, I employed **Stemming**, a text normalization technique, to reduce each word in the filtered tokens to its base or root form using the **Porter Stemmer algorithm provided by NLTK**. By iterating through each list of filtered tokens, I applied stemming to improve text analysis accuracy by reducing the complexity of the vocabulary while preserving semantic meaning. The resulting **stemmed_tokens** list contains the stemmed versions of the original tokens, facilitating more efficient and consistent text processing for downstream tasks like sentiment analysis or classification."
   ]
  },
  {
   "cell_type": "code",
   "execution_count": 13,
   "id": "5337a2fa",
   "metadata": {},
   "outputs": [],
   "source": [
    "# Lemmatization\n",
    "lemmatizer = WordNetLemmatizer()\n",
    "lemmatized_tokens = []\n",
    "for tokens in filtered_tokens:\n",
    "    lemmatized_tokens.append([lemmatizer.lemmatize(word) for word in tokens])"
   ]
  },
  {
   "cell_type": "markdown",
   "id": "ae9280aa",
   "metadata": {},
   "source": [
    "Now I implemented **lemmatization**, a text normalization technique, using the **WordNet Lemmatizer provided by NLTK**. By iterating through each list of filtered tokens, I applied lemmatization to transform words into their base or dictionary forms, which helps in **standardizing the vocabulary and improving text analysis accuracy**. The resulting **lemmatized_tokens** list contains the lemmatized versions of the original tokens, facilitating more accurate and linguistically consistent text processing for tasks such as sentiment analysis or classification."
   ]
  },
  {
   "cell_type": "code",
   "execution_count": 14,
   "id": "0882472f",
   "metadata": {},
   "outputs": [],
   "source": [
    "# Join tokens back to text\n",
    "df['cleaned_text'] = [' '.join(tokens) for tokens in lemmatized_tokens]"
   ]
  },
  {
   "cell_type": "markdown",
   "id": "27b219d0",
   "metadata": {},
   "source": [
    "I utilized list comprehension to concatenate the lemmatized tokens into text format and assigned the result to a new column named **cleaned_text**."
   ]
  },
  {
   "cell_type": "code",
   "execution_count": 15,
   "id": "f2b80669",
   "metadata": {},
   "outputs": [
    {
     "data": {
      "text/html": [
       "<div>\n",
       "<style scoped>\n",
       "    .dataframe tbody tr th:only-of-type {\n",
       "        vertical-align: middle;\n",
       "    }\n",
       "\n",
       "    .dataframe tbody tr th {\n",
       "        vertical-align: top;\n",
       "    }\n",
       "\n",
       "    .dataframe thead th {\n",
       "        text-align: right;\n",
       "    }\n",
       "</style>\n",
       "<table border=\"1\" class=\"dataframe\">\n",
       "  <thead>\n",
       "    <tr style=\"text-align: right;\">\n",
       "      <th></th>\n",
       "      <th>Unnamed: 0</th>\n",
       "      <th>Reviews</th>\n",
       "      <th>text_tokens</th>\n",
       "      <th>cleaned_text</th>\n",
       "    </tr>\n",
       "  </thead>\n",
       "  <tbody>\n",
       "    <tr>\n",
       "      <th>0</th>\n",
       "      <td>0</td>\n",
       "      <td>I previously wrote this review right after rea...</td>\n",
       "      <td>[i, previously, wrote, this, review, right, af...</td>\n",
       "      <td>previously wrote review right reading book tod...</td>\n",
       "    </tr>\n",
       "    <tr>\n",
       "      <th>1</th>\n",
       "      <td>1</td>\n",
       "      <td>\"Atomic Habits\" by James Clear is a transforma...</td>\n",
       "      <td>[``, atomic, habits, '', by, james, clear, is,...</td>\n",
       "      <td>`` atomic habit '' james clear transformative ...</td>\n",
       "    </tr>\n",
       "    <tr>\n",
       "      <th>2</th>\n",
       "      <td>2</td>\n",
       "      <td>I've read a lot of books on changing behavior ...</td>\n",
       "      <td>[i, 've, read, a, lot, of, books, on, changing...</td>\n",
       "      <td>'ve read lot book changing behavior building h...</td>\n",
       "    </tr>\n",
       "    <tr>\n",
       "      <th>3</th>\n",
       "      <td>3</td>\n",
       "      <td>Very insightful and easy to read. It’s crazy h...</td>\n",
       "      <td>[very, insightful, and, easy, to, read, ., it,...</td>\n",
       "      <td>insightful easy read ’ crazy simple thought ma...</td>\n",
       "    </tr>\n",
       "    <tr>\n",
       "      <th>4</th>\n",
       "      <td>4</td>\n",
       "      <td>\"Atomic Habits\" by James Clear is pretty much ...</td>\n",
       "      <td>[``, atomic, habits, '', by, james, clear, is,...</td>\n",
       "      <td>`` atomic habit '' james clear pretty much gam...</td>\n",
       "    </tr>\n",
       "  </tbody>\n",
       "</table>\n",
       "</div>"
      ],
      "text/plain": [
       "   Unnamed: 0                                            Reviews  \\\n",
       "0           0  I previously wrote this review right after rea...   \n",
       "1           1  \"Atomic Habits\" by James Clear is a transforma...   \n",
       "2           2  I've read a lot of books on changing behavior ...   \n",
       "3           3  Very insightful and easy to read. It’s crazy h...   \n",
       "4           4  \"Atomic Habits\" by James Clear is pretty much ...   \n",
       "\n",
       "                                         text_tokens  \\\n",
       "0  [i, previously, wrote, this, review, right, af...   \n",
       "1  [``, atomic, habits, '', by, james, clear, is,...   \n",
       "2  [i, 've, read, a, lot, of, books, on, changing...   \n",
       "3  [very, insightful, and, easy, to, read, ., it,...   \n",
       "4  [``, atomic, habits, '', by, james, clear, is,...   \n",
       "\n",
       "                                        cleaned_text  \n",
       "0  previously wrote review right reading book tod...  \n",
       "1  `` atomic habit '' james clear transformative ...  \n",
       "2  've read lot book changing behavior building h...  \n",
       "3  insightful easy read ’ crazy simple thought ma...  \n",
       "4  `` atomic habit '' james clear pretty much gam...  "
      ]
     },
     "execution_count": 15,
     "metadata": {},
     "output_type": "execute_result"
    }
   ],
   "source": [
    "df.head()"
   ]
  },
  {
   "cell_type": "code",
   "execution_count": 16,
   "id": "a1949c5d",
   "metadata": {},
   "outputs": [
    {
     "name": "stdout",
     "output_type": "stream",
     "text": [
      "<class 'pandas.core.frame.DataFrame'>\n",
      "RangeIndex: 4610 entries, 0 to 4609\n",
      "Data columns (total 4 columns):\n",
      " #   Column        Non-Null Count  Dtype \n",
      "---  ------        --------------  ----- \n",
      " 0   Unnamed: 0    4610 non-null   int64 \n",
      " 1   Reviews       4610 non-null   object\n",
      " 2   text_tokens   4610 non-null   object\n",
      " 3   cleaned_text  4610 non-null   object\n",
      "dtypes: int64(1), object(3)\n",
      "memory usage: 144.2+ KB\n"
     ]
    }
   ],
   "source": [
    "df.info()"
   ]
  },
  {
   "cell_type": "code",
   "execution_count": 18,
   "id": "62b3c971",
   "metadata": {},
   "outputs": [],
   "source": [
    "# Distribution of review lengths\n",
    "df['review_length'] = df['cleaned_text'].apply(lambda x: len(x.split()))"
   ]
  },
  {
   "cell_type": "markdown",
   "id": "f35698a6",
   "metadata": {},
   "source": [
    "Here, I calculated the length of each review in terms of the number of words. I achieved this by applying a lambda function to the **cleaned_text** column of our dataframe. Within the lambda function, I used the split() method to separate the text into individual words and then determined the length of the resulting list, representing the number of words in each review. Finally, I assigned these calculated lengths to a new column named **review_length**."
   ]
  },
  {
   "cell_type": "code",
   "execution_count": 19,
   "id": "83d9aa3e",
   "metadata": {},
   "outputs": [
    {
     "data": {
      "text/html": [
       "<div>\n",
       "<style scoped>\n",
       "    .dataframe tbody tr th:only-of-type {\n",
       "        vertical-align: middle;\n",
       "    }\n",
       "\n",
       "    .dataframe tbody tr th {\n",
       "        vertical-align: top;\n",
       "    }\n",
       "\n",
       "    .dataframe thead th {\n",
       "        text-align: right;\n",
       "    }\n",
       "</style>\n",
       "<table border=\"1\" class=\"dataframe\">\n",
       "  <thead>\n",
       "    <tr style=\"text-align: right;\">\n",
       "      <th></th>\n",
       "      <th>Unnamed: 0</th>\n",
       "      <th>Reviews</th>\n",
       "      <th>text_tokens</th>\n",
       "      <th>cleaned_text</th>\n",
       "      <th>review_length</th>\n",
       "    </tr>\n",
       "  </thead>\n",
       "  <tbody>\n",
       "    <tr>\n",
       "      <th>0</th>\n",
       "      <td>0</td>\n",
       "      <td>I previously wrote this review right after rea...</td>\n",
       "      <td>[i, previously, wrote, this, review, right, af...</td>\n",
       "      <td>previously wrote review right reading book tod...</td>\n",
       "      <td>1684</td>\n",
       "    </tr>\n",
       "    <tr>\n",
       "      <th>1</th>\n",
       "      <td>1</td>\n",
       "      <td>\"Atomic Habits\" by James Clear is a transforma...</td>\n",
       "      <td>[``, atomic, habits, '', by, james, clear, is,...</td>\n",
       "      <td>`` atomic habit '' james clear transformative ...</td>\n",
       "      <td>138</td>\n",
       "    </tr>\n",
       "    <tr>\n",
       "      <th>2</th>\n",
       "      <td>2</td>\n",
       "      <td>I've read a lot of books on changing behavior ...</td>\n",
       "      <td>[i, 've, read, a, lot, of, books, on, changing...</td>\n",
       "      <td>'ve read lot book changing behavior building h...</td>\n",
       "      <td>332</td>\n",
       "    </tr>\n",
       "    <tr>\n",
       "      <th>3</th>\n",
       "      <td>3</td>\n",
       "      <td>Very insightful and easy to read. It’s crazy h...</td>\n",
       "      <td>[very, insightful, and, easy, to, read, ., it,...</td>\n",
       "      <td>insightful easy read ’ crazy simple thought ma...</td>\n",
       "      <td>24</td>\n",
       "    </tr>\n",
       "    <tr>\n",
       "      <th>4</th>\n",
       "      <td>4</td>\n",
       "      <td>\"Atomic Habits\" by James Clear is pretty much ...</td>\n",
       "      <td>[``, atomic, habits, '', by, james, clear, is,...</td>\n",
       "      <td>`` atomic habit '' james clear pretty much gam...</td>\n",
       "      <td>179</td>\n",
       "    </tr>\n",
       "  </tbody>\n",
       "</table>\n",
       "</div>"
      ],
      "text/plain": [
       "   Unnamed: 0                                            Reviews  \\\n",
       "0           0  I previously wrote this review right after rea...   \n",
       "1           1  \"Atomic Habits\" by James Clear is a transforma...   \n",
       "2           2  I've read a lot of books on changing behavior ...   \n",
       "3           3  Very insightful and easy to read. It’s crazy h...   \n",
       "4           4  \"Atomic Habits\" by James Clear is pretty much ...   \n",
       "\n",
       "                                         text_tokens  \\\n",
       "0  [i, previously, wrote, this, review, right, af...   \n",
       "1  [``, atomic, habits, '', by, james, clear, is,...   \n",
       "2  [i, 've, read, a, lot, of, books, on, changing...   \n",
       "3  [very, insightful, and, easy, to, read, ., it,...   \n",
       "4  [``, atomic, habits, '', by, james, clear, is,...   \n",
       "\n",
       "                                        cleaned_text  review_length  \n",
       "0  previously wrote review right reading book tod...           1684  \n",
       "1  `` atomic habit '' james clear transformative ...            138  \n",
       "2  've read lot book changing behavior building h...            332  \n",
       "3  insightful easy read ’ crazy simple thought ma...             24  \n",
       "4  `` atomic habit '' james clear pretty much gam...            179  "
      ]
     },
     "execution_count": 19,
     "metadata": {},
     "output_type": "execute_result"
    }
   ],
   "source": [
    "df.head()"
   ]
  },
  {
   "cell_type": "code",
   "execution_count": 20,
   "id": "186c33da",
   "metadata": {},
   "outputs": [],
   "source": [
    "df = df.rename(columns = {'Reviews': 'review'})"
   ]
  },
  {
   "cell_type": "code",
   "execution_count": 21,
   "id": "63432595",
   "metadata": {},
   "outputs": [
    {
     "data": {
      "text/html": [
       "<div>\n",
       "<style scoped>\n",
       "    .dataframe tbody tr th:only-of-type {\n",
       "        vertical-align: middle;\n",
       "    }\n",
       "\n",
       "    .dataframe tbody tr th {\n",
       "        vertical-align: top;\n",
       "    }\n",
       "\n",
       "    .dataframe thead th {\n",
       "        text-align: right;\n",
       "    }\n",
       "</style>\n",
       "<table border=\"1\" class=\"dataframe\">\n",
       "  <thead>\n",
       "    <tr style=\"text-align: right;\">\n",
       "      <th></th>\n",
       "      <th>Unnamed: 0</th>\n",
       "      <th>review</th>\n",
       "      <th>text_tokens</th>\n",
       "      <th>cleaned_text</th>\n",
       "      <th>review_length</th>\n",
       "    </tr>\n",
       "  </thead>\n",
       "  <tbody>\n",
       "    <tr>\n",
       "      <th>0</th>\n",
       "      <td>0</td>\n",
       "      <td>I previously wrote this review right after rea...</td>\n",
       "      <td>[i, previously, wrote, this, review, right, af...</td>\n",
       "      <td>previously wrote review right reading book tod...</td>\n",
       "      <td>1684</td>\n",
       "    </tr>\n",
       "    <tr>\n",
       "      <th>1</th>\n",
       "      <td>1</td>\n",
       "      <td>\"Atomic Habits\" by James Clear is a transforma...</td>\n",
       "      <td>[``, atomic, habits, '', by, james, clear, is,...</td>\n",
       "      <td>`` atomic habit '' james clear transformative ...</td>\n",
       "      <td>138</td>\n",
       "    </tr>\n",
       "    <tr>\n",
       "      <th>2</th>\n",
       "      <td>2</td>\n",
       "      <td>I've read a lot of books on changing behavior ...</td>\n",
       "      <td>[i, 've, read, a, lot, of, books, on, changing...</td>\n",
       "      <td>'ve read lot book changing behavior building h...</td>\n",
       "      <td>332</td>\n",
       "    </tr>\n",
       "    <tr>\n",
       "      <th>3</th>\n",
       "      <td>3</td>\n",
       "      <td>Very insightful and easy to read. It’s crazy h...</td>\n",
       "      <td>[very, insightful, and, easy, to, read, ., it,...</td>\n",
       "      <td>insightful easy read ’ crazy simple thought ma...</td>\n",
       "      <td>24</td>\n",
       "    </tr>\n",
       "    <tr>\n",
       "      <th>4</th>\n",
       "      <td>4</td>\n",
       "      <td>\"Atomic Habits\" by James Clear is pretty much ...</td>\n",
       "      <td>[``, atomic, habits, '', by, james, clear, is,...</td>\n",
       "      <td>`` atomic habit '' james clear pretty much gam...</td>\n",
       "      <td>179</td>\n",
       "    </tr>\n",
       "  </tbody>\n",
       "</table>\n",
       "</div>"
      ],
      "text/plain": [
       "   Unnamed: 0                                             review  \\\n",
       "0           0  I previously wrote this review right after rea...   \n",
       "1           1  \"Atomic Habits\" by James Clear is a transforma...   \n",
       "2           2  I've read a lot of books on changing behavior ...   \n",
       "3           3  Very insightful and easy to read. It’s crazy h...   \n",
       "4           4  \"Atomic Habits\" by James Clear is pretty much ...   \n",
       "\n",
       "                                         text_tokens  \\\n",
       "0  [i, previously, wrote, this, review, right, af...   \n",
       "1  [``, atomic, habits, '', by, james, clear, is,...   \n",
       "2  [i, 've, read, a, lot, of, books, on, changing...   \n",
       "3  [very, insightful, and, easy, to, read, ., it,...   \n",
       "4  [``, atomic, habits, '', by, james, clear, is,...   \n",
       "\n",
       "                                        cleaned_text  review_length  \n",
       "0  previously wrote review right reading book tod...           1684  \n",
       "1  `` atomic habit '' james clear transformative ...            138  \n",
       "2  've read lot book changing behavior building h...            332  \n",
       "3  insightful easy read ’ crazy simple thought ma...             24  \n",
       "4  `` atomic habit '' james clear pretty much gam...            179  "
      ]
     },
     "execution_count": 21,
     "metadata": {},
     "output_type": "execute_result"
    }
   ],
   "source": [
    "df.head()"
   ]
  },
  {
   "cell_type": "markdown",
   "id": "3df757c0",
   "metadata": {},
   "source": [
    "# How to do Sentiment Analysis"
   ]
  },
  {
   "cell_type": "markdown",
   "id": "5ba8f969",
   "metadata": {},
   "source": [
    "### Using TextBlob\n",
    "I imported TextBlob to harness its natural language processing functionalities, which include sentiment analysis, part-of-speech tagging, and text parsing, among others, for enhanced text analysis tasks."
   ]
  },
  {
   "cell_type": "code",
   "execution_count": 22,
   "id": "9a98e170",
   "metadata": {},
   "outputs": [],
   "source": [
    "from textblob import TextBlob"
   ]
  },
  {
   "cell_type": "code",
   "execution_count": 23,
   "id": "f1d4ee7e",
   "metadata": {},
   "outputs": [
    {
     "name": "stdout",
     "output_type": "stream",
     "text": [
      "Requirement already satisfied: textblob in c:\\users\\haide\\anaconda3\\lib\\site-packages (0.18.0.post0)\n",
      "Requirement already satisfied: nltk>=3.8 in c:\\users\\haide\\anaconda3\\lib\\site-packages (from textblob) (3.8.1)\n",
      "Requirement already satisfied: joblib in c:\\users\\haide\\anaconda3\\lib\\site-packages (from nltk>=3.8->textblob) (1.1.0)\n",
      "Requirement already satisfied: tqdm in c:\\users\\haide\\anaconda3\\lib\\site-packages (from nltk>=3.8->textblob) (4.64.1)\n",
      "Requirement already satisfied: regex>=2021.8.3 in c:\\users\\haide\\anaconda3\\lib\\site-packages (from nltk>=3.8->textblob) (2022.7.9)\n",
      "Requirement already satisfied: click in c:\\users\\haide\\anaconda3\\lib\\site-packages (from nltk>=3.8->textblob) (8.0.4)\n",
      "Requirement already satisfied: colorama in c:\\users\\haide\\anaconda3\\lib\\site-packages (from click->nltk>=3.8->textblob) (0.4.5)\n",
      "Note: you may need to restart the kernel to use updated packages.\n"
     ]
    }
   ],
   "source": [
    "# Install it if it is not installed yet\n",
    "pip install textblob"
   ]
  },
  {
   "cell_type": "code",
   "execution_count": 24,
   "id": "988f70ac",
   "metadata": {},
   "outputs": [],
   "source": [
    "# Define a function to get sentiment polarity\n",
    "def get_sentiment(text):\n",
    "    analysis = TextBlob(text)\n",
    "    \n",
    "    # Return the polarity score\n",
    "    return analysis.sentiment.polarity"
   ]
  },
  {
   "cell_type": "markdown",
   "id": "21873c28",
   "metadata": {},
   "source": [
    "I defined a function named **get_sentiment** to analyze the sentiment polarity of text data. Within the function, I instantiated a TextBlob object with the provided text, allowing me to access its sentiment analysis functionality. By retrieving the polarity score using **analysis.sentiment.polarity**, the function returns the sentiment polarity of the input text. \n",
    "\n",
    "**Sentiment polarity of text indicates the degree of positivity or negativity expressed in the text, typically ranging from -1 (negative) to +1 (positive), with 0 representing neutral sentiment.**"
   ]
  },
  {
   "cell_type": "code",
   "execution_count": 25,
   "id": "d8c0e78b",
   "metadata": {},
   "outputs": [],
   "source": [
    "# Apply sentiment function to the cleaned_text column to get sentiment polarity\n",
    "df['sentiment'] = df['cleaned_text'].apply(get_sentiment)"
   ]
  },
  {
   "cell_type": "markdown",
   "id": "40da05f6",
   "metadata": {},
   "source": [
    "I used the **get_sentiment** function to analyze the sentiment polarity of each review in the **cleaned_text** column of the DataFrame 'df' and stored the results in a new column named 'sentiment'."
   ]
  },
  {
   "cell_type": "code",
   "execution_count": 27,
   "id": "a029f8d1",
   "metadata": {},
   "outputs": [],
   "source": [
    "# Classify sentiment as positive, negative, or neutral based on polarity score\n",
    "df['sentiment_category'] = df['sentiment'].apply(lambda x: 'positive' if x > 0 else 'negative' if x < 0 else 'neutral')"
   ]
  },
  {
   "cell_type": "markdown",
   "id": "b212a46e",
   "metadata": {},
   "source": [
    "**I classified the sentiment of each review in the DataFrame 'df' as positive, negative, or neutral based on its polarity score. This was achieved by applying a lambda function to the 'sentiment' column, which assigns 'positive' if the polarity score is greater than 0, 'negative' if it's less than 0, and 'neutral' if it equals 0, storing the results in a new column named 'sentiment_category'.**"
   ]
  },
  {
   "cell_type": "code",
   "execution_count": 28,
   "id": "f1b93b33",
   "metadata": {
    "scrolled": true
   },
   "outputs": [
    {
     "data": {
      "text/html": [
       "<div>\n",
       "<style scoped>\n",
       "    .dataframe tbody tr th:only-of-type {\n",
       "        vertical-align: middle;\n",
       "    }\n",
       "\n",
       "    .dataframe tbody tr th {\n",
       "        vertical-align: top;\n",
       "    }\n",
       "\n",
       "    .dataframe thead th {\n",
       "        text-align: right;\n",
       "    }\n",
       "</style>\n",
       "<table border=\"1\" class=\"dataframe\">\n",
       "  <thead>\n",
       "    <tr style=\"text-align: right;\">\n",
       "      <th></th>\n",
       "      <th>Unnamed: 0</th>\n",
       "      <th>review</th>\n",
       "      <th>text_tokens</th>\n",
       "      <th>cleaned_text</th>\n",
       "      <th>review_length</th>\n",
       "      <th>sentiment</th>\n",
       "      <th>sentiment_category</th>\n",
       "    </tr>\n",
       "  </thead>\n",
       "  <tbody>\n",
       "    <tr>\n",
       "      <th>0</th>\n",
       "      <td>0</td>\n",
       "      <td>I previously wrote this review right after rea...</td>\n",
       "      <td>[i, previously, wrote, this, review, right, af...</td>\n",
       "      <td>previously wrote review right reading book tod...</td>\n",
       "      <td>1684</td>\n",
       "      <td>0.130649</td>\n",
       "      <td>positive</td>\n",
       "    </tr>\n",
       "    <tr>\n",
       "      <th>1</th>\n",
       "      <td>1</td>\n",
       "      <td>\"Atomic Habits\" by James Clear is a transforma...</td>\n",
       "      <td>[``, atomic, habits, '', by, james, clear, is,...</td>\n",
       "      <td>`` atomic habit '' james clear transformative ...</td>\n",
       "      <td>138</td>\n",
       "      <td>0.169048</td>\n",
       "      <td>positive</td>\n",
       "    </tr>\n",
       "    <tr>\n",
       "      <th>2</th>\n",
       "      <td>2</td>\n",
       "      <td>I've read a lot of books on changing behavior ...</td>\n",
       "      <td>[i, 've, read, a, lot, of, books, on, changing...</td>\n",
       "      <td>'ve read lot book changing behavior building h...</td>\n",
       "      <td>332</td>\n",
       "      <td>0.145893</td>\n",
       "      <td>positive</td>\n",
       "    </tr>\n",
       "    <tr>\n",
       "      <th>3</th>\n",
       "      <td>3</td>\n",
       "      <td>Very insightful and easy to read. It’s crazy h...</td>\n",
       "      <td>[very, insightful, and, easy, to, read, ., it,...</td>\n",
       "      <td>insightful easy read ’ crazy simple thought ma...</td>\n",
       "      <td>24</td>\n",
       "      <td>-0.055556</td>\n",
       "      <td>negative</td>\n",
       "    </tr>\n",
       "    <tr>\n",
       "      <th>4</th>\n",
       "      <td>4</td>\n",
       "      <td>\"Atomic Habits\" by James Clear is pretty much ...</td>\n",
       "      <td>[``, atomic, habits, '', by, james, clear, is,...</td>\n",
       "      <td>`` atomic habit '' james clear pretty much gam...</td>\n",
       "      <td>179</td>\n",
       "      <td>0.228409</td>\n",
       "      <td>positive</td>\n",
       "    </tr>\n",
       "  </tbody>\n",
       "</table>\n",
       "</div>"
      ],
      "text/plain": [
       "   Unnamed: 0                                             review  \\\n",
       "0           0  I previously wrote this review right after rea...   \n",
       "1           1  \"Atomic Habits\" by James Clear is a transforma...   \n",
       "2           2  I've read a lot of books on changing behavior ...   \n",
       "3           3  Very insightful and easy to read. It’s crazy h...   \n",
       "4           4  \"Atomic Habits\" by James Clear is pretty much ...   \n",
       "\n",
       "                                         text_tokens  \\\n",
       "0  [i, previously, wrote, this, review, right, af...   \n",
       "1  [``, atomic, habits, '', by, james, clear, is,...   \n",
       "2  [i, 've, read, a, lot, of, books, on, changing...   \n",
       "3  [very, insightful, and, easy, to, read, ., it,...   \n",
       "4  [``, atomic, habits, '', by, james, clear, is,...   \n",
       "\n",
       "                                        cleaned_text  review_length  \\\n",
       "0  previously wrote review right reading book tod...           1684   \n",
       "1  `` atomic habit '' james clear transformative ...            138   \n",
       "2  've read lot book changing behavior building h...            332   \n",
       "3  insightful easy read ’ crazy simple thought ma...             24   \n",
       "4  `` atomic habit '' james clear pretty much gam...            179   \n",
       "\n",
       "   sentiment sentiment_category  \n",
       "0   0.130649           positive  \n",
       "1   0.169048           positive  \n",
       "2   0.145893           positive  \n",
       "3  -0.055556           negative  \n",
       "4   0.228409           positive  "
      ]
     },
     "execution_count": 28,
     "metadata": {},
     "output_type": "execute_result"
    }
   ],
   "source": [
    "df.head()"
   ]
  },
  {
   "cell_type": "code",
   "execution_count": 29,
   "id": "4ac8862f",
   "metadata": {},
   "outputs": [
    {
     "data": {
      "text/plain": [
       "positive    3688\n",
       "negative     922\n",
       "Name: sentiment_category, dtype: int64"
      ]
     },
     "execution_count": 29,
     "metadata": {},
     "output_type": "execute_result"
    }
   ],
   "source": [
    "df['sentiment_category'].value_counts()"
   ]
  },
  {
   "cell_type": "code",
   "execution_count": 30,
   "id": "8092546d",
   "metadata": {},
   "outputs": [
    {
     "data": {
      "text/plain": [
       "positive    0.8\n",
       "negative    0.2\n",
       "Name: sentiment_category, dtype: float64"
      ]
     },
     "execution_count": 30,
     "metadata": {},
     "output_type": "execute_result"
    }
   ],
   "source": [
    "df['sentiment_category'].value_counts(normalize=True)"
   ]
  },
  {
   "cell_type": "markdown",
   "id": "6c720d68",
   "metadata": {},
   "source": [
    "## Key takeways from Sentiment Analysis by TextBlob method\n",
    "- manual sentiment labeling method provided a quick and efficient way to analyze customer reviews.\n",
    "- approximately 80% of reviews expressed positive sentiment towards **Atomic Habits**.\n",
    "- positive reviews praised the book's practical advice and transformative impact.\n",
    "- negative feedback identified areas for refinement in content or delivery.\n",
    "- stakeholders urged to leverage positive feedback for marketing and address concerns for continuous improvement."
   ]
  },
  {
   "cell_type": "markdown",
   "id": "03790242",
   "metadata": {},
   "source": [
    "# Method 2: By SentimentAnalyser\n",
    "\n",
    "I did not belive the 20% negative sentiments, so I used this second technique to verify whether that's true or not"
   ]
  },
  {
   "cell_type": "code",
   "execution_count": 33,
   "id": "953a18ec",
   "metadata": {},
   "outputs": [
    {
     "data": {
      "text/html": [
       "<div>\n",
       "<style scoped>\n",
       "    .dataframe tbody tr th:only-of-type {\n",
       "        vertical-align: middle;\n",
       "    }\n",
       "\n",
       "    .dataframe tbody tr th {\n",
       "        vertical-align: top;\n",
       "    }\n",
       "\n",
       "    .dataframe thead th {\n",
       "        text-align: right;\n",
       "    }\n",
       "</style>\n",
       "<table border=\"1\" class=\"dataframe\">\n",
       "  <thead>\n",
       "    <tr style=\"text-align: right;\">\n",
       "      <th></th>\n",
       "      <th>Unnamed: 0</th>\n",
       "      <th>review</th>\n",
       "      <th>text_tokens</th>\n",
       "      <th>cleaned_text</th>\n",
       "      <th>review_length</th>\n",
       "      <th>vader_sentiment</th>\n",
       "      <th>vader_sentiment_category</th>\n",
       "    </tr>\n",
       "  </thead>\n",
       "  <tbody>\n",
       "    <tr>\n",
       "      <th>0</th>\n",
       "      <td>0</td>\n",
       "      <td>I previously wrote this review right after rea...</td>\n",
       "      <td>[i, previously, wrote, this, review, right, af...</td>\n",
       "      <td>previously wrote review right reading book tod...</td>\n",
       "      <td>1684</td>\n",
       "      <td>0.9998</td>\n",
       "      <td>positive</td>\n",
       "    </tr>\n",
       "    <tr>\n",
       "      <th>1</th>\n",
       "      <td>1</td>\n",
       "      <td>\"Atomic Habits\" by James Clear is a transforma...</td>\n",
       "      <td>[``, atomic, habits, '', by, james, clear, is,...</td>\n",
       "      <td>`` atomic habit '' james clear transformative ...</td>\n",
       "      <td>138</td>\n",
       "      <td>0.9932</td>\n",
       "      <td>positive</td>\n",
       "    </tr>\n",
       "    <tr>\n",
       "      <th>2</th>\n",
       "      <td>2</td>\n",
       "      <td>I've read a lot of books on changing behavior ...</td>\n",
       "      <td>[i, 've, read, a, lot, of, books, on, changing...</td>\n",
       "      <td>'ve read lot book changing behavior building h...</td>\n",
       "      <td>332</td>\n",
       "      <td>0.9974</td>\n",
       "      <td>positive</td>\n",
       "    </tr>\n",
       "    <tr>\n",
       "      <th>3</th>\n",
       "      <td>3</td>\n",
       "      <td>Very insightful and easy to read. It’s crazy h...</td>\n",
       "      <td>[very, insightful, and, easy, to, read, ., it,...</td>\n",
       "      <td>insightful easy read ’ crazy simple thought ma...</td>\n",
       "      <td>24</td>\n",
       "      <td>0.5267</td>\n",
       "      <td>positive</td>\n",
       "    </tr>\n",
       "    <tr>\n",
       "      <th>4</th>\n",
       "      <td>4</td>\n",
       "      <td>\"Atomic Habits\" by James Clear is pretty much ...</td>\n",
       "      <td>[``, atomic, habits, '', by, james, clear, is,...</td>\n",
       "      <td>`` atomic habit '' james clear pretty much gam...</td>\n",
       "      <td>179</td>\n",
       "      <td>0.9954</td>\n",
       "      <td>positive</td>\n",
       "    </tr>\n",
       "  </tbody>\n",
       "</table>\n",
       "</div>"
      ],
      "text/plain": [
       "   Unnamed: 0                                             review  \\\n",
       "0           0  I previously wrote this review right after rea...   \n",
       "1           1  \"Atomic Habits\" by James Clear is a transforma...   \n",
       "2           2  I've read a lot of books on changing behavior ...   \n",
       "3           3  Very insightful and easy to read. It’s crazy h...   \n",
       "4           4  \"Atomic Habits\" by James Clear is pretty much ...   \n",
       "\n",
       "                                         text_tokens  \\\n",
       "0  [i, previously, wrote, this, review, right, af...   \n",
       "1  [``, atomic, habits, '', by, james, clear, is,...   \n",
       "2  [i, 've, read, a, lot, of, books, on, changing...   \n",
       "3  [very, insightful, and, easy, to, read, ., it,...   \n",
       "4  [``, atomic, habits, '', by, james, clear, is,...   \n",
       "\n",
       "                                        cleaned_text  review_length  \\\n",
       "0  previously wrote review right reading book tod...           1684   \n",
       "1  `` atomic habit '' james clear transformative ...            138   \n",
       "2  've read lot book changing behavior building h...            332   \n",
       "3  insightful easy read ’ crazy simple thought ma...             24   \n",
       "4  `` atomic habit '' james clear pretty much gam...            179   \n",
       "\n",
       "   vader_sentiment vader_sentiment_category  \n",
       "0           0.9998                 positive  \n",
       "1           0.9932                 positive  \n",
       "2           0.9974                 positive  \n",
       "3           0.5267                 positive  \n",
       "4           0.9954                 positive  "
      ]
     },
     "execution_count": 33,
     "metadata": {},
     "output_type": "execute_result"
    }
   ],
   "source": [
    "df2 = df.drop(columns = {'sentiment', 'sentiment_category'})\n",
    "df3.head()"
   ]
  },
  {
   "cell_type": "code",
   "execution_count": 34,
   "id": "c6a65ad9",
   "metadata": {},
   "outputs": [
    {
     "name": "stderr",
     "output_type": "stream",
     "text": [
      "[nltk_data] Downloading package vader_lexicon to\n",
      "[nltk_data]     C:\\Users\\haide\\AppData\\Roaming\\nltk_data...\n",
      "[nltk_data]   Package vader_lexicon is already up-to-date!\n"
     ]
    },
    {
     "data": {
      "text/html": [
       "<div>\n",
       "<style scoped>\n",
       "    .dataframe tbody tr th:only-of-type {\n",
       "        vertical-align: middle;\n",
       "    }\n",
       "\n",
       "    .dataframe tbody tr th {\n",
       "        vertical-align: top;\n",
       "    }\n",
       "\n",
       "    .dataframe thead th {\n",
       "        text-align: right;\n",
       "    }\n",
       "</style>\n",
       "<table border=\"1\" class=\"dataframe\">\n",
       "  <thead>\n",
       "    <tr style=\"text-align: right;\">\n",
       "      <th></th>\n",
       "      <th>Unnamed: 0</th>\n",
       "      <th>review</th>\n",
       "      <th>text_tokens</th>\n",
       "      <th>cleaned_text</th>\n",
       "      <th>review_length</th>\n",
       "      <th>vader_sentiment</th>\n",
       "      <th>vader_sentiment_category</th>\n",
       "    </tr>\n",
       "  </thead>\n",
       "  <tbody>\n",
       "    <tr>\n",
       "      <th>0</th>\n",
       "      <td>0</td>\n",
       "      <td>I previously wrote this review right after rea...</td>\n",
       "      <td>[i, previously, wrote, this, review, right, af...</td>\n",
       "      <td>previously wrote review right reading book tod...</td>\n",
       "      <td>1684</td>\n",
       "      <td>0.9998</td>\n",
       "      <td>positive</td>\n",
       "    </tr>\n",
       "    <tr>\n",
       "      <th>1</th>\n",
       "      <td>1</td>\n",
       "      <td>\"Atomic Habits\" by James Clear is a transforma...</td>\n",
       "      <td>[``, atomic, habits, '', by, james, clear, is,...</td>\n",
       "      <td>`` atomic habit '' james clear transformative ...</td>\n",
       "      <td>138</td>\n",
       "      <td>0.9932</td>\n",
       "      <td>positive</td>\n",
       "    </tr>\n",
       "    <tr>\n",
       "      <th>2</th>\n",
       "      <td>2</td>\n",
       "      <td>I've read a lot of books on changing behavior ...</td>\n",
       "      <td>[i, 've, read, a, lot, of, books, on, changing...</td>\n",
       "      <td>'ve read lot book changing behavior building h...</td>\n",
       "      <td>332</td>\n",
       "      <td>0.9974</td>\n",
       "      <td>positive</td>\n",
       "    </tr>\n",
       "    <tr>\n",
       "      <th>3</th>\n",
       "      <td>3</td>\n",
       "      <td>Very insightful and easy to read. It’s crazy h...</td>\n",
       "      <td>[very, insightful, and, easy, to, read, ., it,...</td>\n",
       "      <td>insightful easy read ’ crazy simple thought ma...</td>\n",
       "      <td>24</td>\n",
       "      <td>0.5267</td>\n",
       "      <td>positive</td>\n",
       "    </tr>\n",
       "    <tr>\n",
       "      <th>4</th>\n",
       "      <td>4</td>\n",
       "      <td>\"Atomic Habits\" by James Clear is pretty much ...</td>\n",
       "      <td>[``, atomic, habits, '', by, james, clear, is,...</td>\n",
       "      <td>`` atomic habit '' james clear pretty much gam...</td>\n",
       "      <td>179</td>\n",
       "      <td>0.9954</td>\n",
       "      <td>positive</td>\n",
       "    </tr>\n",
       "  </tbody>\n",
       "</table>\n",
       "</div>"
      ],
      "text/plain": [
       "   Unnamed: 0                                             review  \\\n",
       "0           0  I previously wrote this review right after rea...   \n",
       "1           1  \"Atomic Habits\" by James Clear is a transforma...   \n",
       "2           2  I've read a lot of books on changing behavior ...   \n",
       "3           3  Very insightful and easy to read. It’s crazy h...   \n",
       "4           4  \"Atomic Habits\" by James Clear is pretty much ...   \n",
       "\n",
       "                                         text_tokens  \\\n",
       "0  [i, previously, wrote, this, review, right, af...   \n",
       "1  [``, atomic, habits, '', by, james, clear, is,...   \n",
       "2  [i, 've, read, a, lot, of, books, on, changing...   \n",
       "3  [very, insightful, and, easy, to, read, ., it,...   \n",
       "4  [``, atomic, habits, '', by, james, clear, is,...   \n",
       "\n",
       "                                        cleaned_text  review_length  \\\n",
       "0  previously wrote review right reading book tod...           1684   \n",
       "1  `` atomic habit '' james clear transformative ...            138   \n",
       "2  've read lot book changing behavior building h...            332   \n",
       "3  insightful easy read ’ crazy simple thought ma...             24   \n",
       "4  `` atomic habit '' james clear pretty much gam...            179   \n",
       "\n",
       "   vader_sentiment vader_sentiment_category  \n",
       "0           0.9998                 positive  \n",
       "1           0.9932                 positive  \n",
       "2           0.9974                 positive  \n",
       "3           0.5267                 positive  \n",
       "4           0.9954                 positive  "
      ]
     },
     "execution_count": 34,
     "metadata": {},
     "output_type": "execute_result"
    }
   ],
   "source": [
    "from nltk.sentiment import SentimentIntensityAnalyzer\n",
    "nltk.download('vader_lexicon')\n",
    "\n",
    "# Initialize VADER\n",
    "sid = SentimentIntensityAnalyzer()\n",
    "\n",
    "# Define a function to get sentiment polarity using VADER\n",
    "def get_vader_sentiment(text):\n",
    "    # Get the polarity scores\n",
    "    scores = sid.polarity_scores(text)\n",
    "    # Return the compound score\n",
    "    return scores['compound']\n",
    "\n",
    "# Apply the function to the 'cleaned_text' column to get sentiment polarity\n",
    "df2['vader_sentiment'] = df2['cleaned_text'].apply(get_vader_sentiment)\n",
    "\n",
    "# Classify sentiment as positive, negative, or neutral based on compound score\n",
    "df2['vader_sentiment_category'] = df2['vader_sentiment'].apply(lambda x: 'positive' if x > 0 else 'negative' if x < 0 else 'neutral')\n",
    "\n",
    "\n",
    "df2.head()"
   ]
  },
  {
   "cell_type": "markdown",
   "id": "7f3a080e",
   "metadata": {},
   "source": [
    "I used VADER (Valence Aware Dictionary and sEntiment Reasoner), a sentiment analysis tool from NLTK, to analyze the sentiment polarity of the text data. \n",
    "\n",
    "- First, I initialized VADER and defined a function named 'get_vader_sentiment' to calculate the sentiment polarity using VADER's compound score.\n",
    "- Then, I applied this function to the 'cleaned_text' column of DataFrame 'df2' to obtain sentiment polarity scores for each review.\n",
    "- Subsequently, I classified these sentiment polarity scores into positive, negative, or neutral categories based on their compound score.\n",
    "- Finally, I stored the resulting sentiment categories in a new column named 'vader_sentiment_category' in the DataFrame 'df2'."
   ]
  },
  {
   "cell_type": "code",
   "execution_count": 35,
   "id": "d6fa04e8",
   "metadata": {},
   "outputs": [
    {
     "data": {
      "text/plain": [
       "positive    4610\n",
       "Name: vader_sentiment_category, dtype: int64"
      ]
     },
     "execution_count": 35,
     "metadata": {},
     "output_type": "execute_result"
    }
   ],
   "source": [
    "df2['vader_sentiment_category'].value_counts()"
   ]
  },
  {
   "cell_type": "markdown",
   "id": "47a52c8f",
   "metadata": {},
   "source": [
    "Surprisingly, while TextBlob analysis revealed an 80-20% ratio of positive-negative sentiment categories, VADER Sentiment Analyzer classified all reviews as positive, indicating a stark contrast in sentiment categorization between the two methods."
   ]
  },
  {
   "cell_type": "code",
   "execution_count": 36,
   "id": "9fa572d3",
   "metadata": {},
   "outputs": [
    {
     "data": {
      "text/html": [
       "<div>\n",
       "<style scoped>\n",
       "    .dataframe tbody tr th:only-of-type {\n",
       "        vertical-align: middle;\n",
       "    }\n",
       "\n",
       "    .dataframe tbody tr th {\n",
       "        vertical-align: top;\n",
       "    }\n",
       "\n",
       "    .dataframe thead th {\n",
       "        text-align: right;\n",
       "    }\n",
       "</style>\n",
       "<table border=\"1\" class=\"dataframe\">\n",
       "  <thead>\n",
       "    <tr style=\"text-align: right;\">\n",
       "      <th></th>\n",
       "      <th>sentiment_category</th>\n",
       "      <th>vader_sentiment_category</th>\n",
       "    </tr>\n",
       "  </thead>\n",
       "  <tbody>\n",
       "    <tr>\n",
       "      <th>0</th>\n",
       "      <td>positive</td>\n",
       "      <td>positive</td>\n",
       "    </tr>\n",
       "    <tr>\n",
       "      <th>1</th>\n",
       "      <td>positive</td>\n",
       "      <td>positive</td>\n",
       "    </tr>\n",
       "    <tr>\n",
       "      <th>2</th>\n",
       "      <td>positive</td>\n",
       "      <td>positive</td>\n",
       "    </tr>\n",
       "    <tr>\n",
       "      <th>3</th>\n",
       "      <td>negative</td>\n",
       "      <td>positive</td>\n",
       "    </tr>\n",
       "    <tr>\n",
       "      <th>4</th>\n",
       "      <td>positive</td>\n",
       "      <td>positive</td>\n",
       "    </tr>\n",
       "    <tr>\n",
       "      <th>5</th>\n",
       "      <td>positive</td>\n",
       "      <td>positive</td>\n",
       "    </tr>\n",
       "    <tr>\n",
       "      <th>6</th>\n",
       "      <td>positive</td>\n",
       "      <td>positive</td>\n",
       "    </tr>\n",
       "    <tr>\n",
       "      <th>7</th>\n",
       "      <td>positive</td>\n",
       "      <td>positive</td>\n",
       "    </tr>\n",
       "    <tr>\n",
       "      <th>8</th>\n",
       "      <td>negative</td>\n",
       "      <td>positive</td>\n",
       "    </tr>\n",
       "    <tr>\n",
       "      <th>9</th>\n",
       "      <td>positive</td>\n",
       "      <td>positive</td>\n",
       "    </tr>\n",
       "    <tr>\n",
       "      <th>10</th>\n",
       "      <td>positive</td>\n",
       "      <td>positive</td>\n",
       "    </tr>\n",
       "    <tr>\n",
       "      <th>11</th>\n",
       "      <td>positive</td>\n",
       "      <td>positive</td>\n",
       "    </tr>\n",
       "    <tr>\n",
       "      <th>12</th>\n",
       "      <td>positive</td>\n",
       "      <td>positive</td>\n",
       "    </tr>\n",
       "    <tr>\n",
       "      <th>13</th>\n",
       "      <td>negative</td>\n",
       "      <td>positive</td>\n",
       "    </tr>\n",
       "    <tr>\n",
       "      <th>14</th>\n",
       "      <td>positive</td>\n",
       "      <td>positive</td>\n",
       "    </tr>\n",
       "    <tr>\n",
       "      <th>15</th>\n",
       "      <td>positive</td>\n",
       "      <td>positive</td>\n",
       "    </tr>\n",
       "    <tr>\n",
       "      <th>16</th>\n",
       "      <td>positive</td>\n",
       "      <td>positive</td>\n",
       "    </tr>\n",
       "    <tr>\n",
       "      <th>17</th>\n",
       "      <td>positive</td>\n",
       "      <td>positive</td>\n",
       "    </tr>\n",
       "    <tr>\n",
       "      <th>18</th>\n",
       "      <td>negative</td>\n",
       "      <td>positive</td>\n",
       "    </tr>\n",
       "    <tr>\n",
       "      <th>19</th>\n",
       "      <td>positive</td>\n",
       "      <td>positive</td>\n",
       "    </tr>\n",
       "    <tr>\n",
       "      <th>20</th>\n",
       "      <td>positive</td>\n",
       "      <td>positive</td>\n",
       "    </tr>\n",
       "    <tr>\n",
       "      <th>21</th>\n",
       "      <td>positive</td>\n",
       "      <td>positive</td>\n",
       "    </tr>\n",
       "    <tr>\n",
       "      <th>22</th>\n",
       "      <td>positive</td>\n",
       "      <td>positive</td>\n",
       "    </tr>\n",
       "    <tr>\n",
       "      <th>23</th>\n",
       "      <td>negative</td>\n",
       "      <td>positive</td>\n",
       "    </tr>\n",
       "    <tr>\n",
       "      <th>24</th>\n",
       "      <td>positive</td>\n",
       "      <td>positive</td>\n",
       "    </tr>\n",
       "    <tr>\n",
       "      <th>25</th>\n",
       "      <td>positive</td>\n",
       "      <td>positive</td>\n",
       "    </tr>\n",
       "    <tr>\n",
       "      <th>26</th>\n",
       "      <td>positive</td>\n",
       "      <td>positive</td>\n",
       "    </tr>\n",
       "    <tr>\n",
       "      <th>27</th>\n",
       "      <td>positive</td>\n",
       "      <td>positive</td>\n",
       "    </tr>\n",
       "    <tr>\n",
       "      <th>28</th>\n",
       "      <td>negative</td>\n",
       "      <td>positive</td>\n",
       "    </tr>\n",
       "    <tr>\n",
       "      <th>29</th>\n",
       "      <td>positive</td>\n",
       "      <td>positive</td>\n",
       "    </tr>\n",
       "  </tbody>\n",
       "</table>\n",
       "</div>"
      ],
      "text/plain": [
       "   sentiment_category vader_sentiment_category\n",
       "0            positive                 positive\n",
       "1            positive                 positive\n",
       "2            positive                 positive\n",
       "3            negative                 positive\n",
       "4            positive                 positive\n",
       "5            positive                 positive\n",
       "6            positive                 positive\n",
       "7            positive                 positive\n",
       "8            negative                 positive\n",
       "9            positive                 positive\n",
       "10           positive                 positive\n",
       "11           positive                 positive\n",
       "12           positive                 positive\n",
       "13           negative                 positive\n",
       "14           positive                 positive\n",
       "15           positive                 positive\n",
       "16           positive                 positive\n",
       "17           positive                 positive\n",
       "18           negative                 positive\n",
       "19           positive                 positive\n",
       "20           positive                 positive\n",
       "21           positive                 positive\n",
       "22           positive                 positive\n",
       "23           negative                 positive\n",
       "24           positive                 positive\n",
       "25           positive                 positive\n",
       "26           positive                 positive\n",
       "27           positive                 positive\n",
       "28           negative                 positive\n",
       "29           positive                 positive"
      ]
     },
     "execution_count": 36,
     "metadata": {},
     "output_type": "execute_result"
    }
   ],
   "source": [
    "df4 = pd.DataFrame({\n",
    "    'sentiment_category': df['sentiment_category'],\n",
    "    'vader_sentiment_category': df3['vader_sentiment_category']\n",
    "})\n",
    "df4.head(30)"
   ]
  },
  {
   "cell_type": "code",
   "execution_count": 46,
   "id": "cb9659eb",
   "metadata": {},
   "outputs": [
    {
     "data": {
      "text/plain": [
       "positive    4610\n",
       "Name: vader_sentiment_category, dtype: int64"
      ]
     },
     "execution_count": 46,
     "metadata": {},
     "output_type": "execute_result"
    }
   ],
   "source": [
    "df3['vader_sentiment_category'].value_counts()"
   ]
  },
  {
   "cell_type": "code",
   "execution_count": 47,
   "id": "05385046",
   "metadata": {},
   "outputs": [
    {
     "data": {
      "text/plain": [
       "positive    3688\n",
       "negative     922\n",
       "Name: sentiment_category, dtype: int64"
      ]
     },
     "execution_count": 47,
     "metadata": {},
     "output_type": "execute_result"
    }
   ],
   "source": [
    "df['sentiment_category'].value_counts()"
   ]
  },
  {
   "cell_type": "markdown",
   "id": "70dc7bd1",
   "metadata": {},
   "source": [
    "# Results\n",
    "I found that VADER Sentiment Analyzer performed better in this context of sentiment analysis for Amazon reviews of \"Atomic Habits.\" Considering the overwhelmingly positive sentiment observed on the main Amazon page with over 120,000 reviews and a high rating of 4.8/5 for the book, it's reasonable to expect a predominantly positive sentiment in the reviews analyzed. VADER's optimized approach for analyzing informal text, such as online reviews, resulted in a more accurate classification of all reviews as positive. While TextBlob offers a versatile toolkit, VADER's alignment with the characteristics of the review data led me to choose it as the preferable method for this task."
   ]
  },
  {
   "cell_type": "markdown",
   "id": "3f5e111a",
   "metadata": {},
   "source": [
    "## Key takeaways from Sentiment Analysis by VADER Sentiment Analyzer method:\n",
    "- VADER's optimized approach accurately classified all reviews as positive, aligning with the overwhelmingly positive sentiment observed on the main Amazon page.\n",
    "- The classification of all reviews as positive indicates a strong endorsement and satisfaction among readers for \"Atomic Habits.\"\n",
    "- The absence of negative sentiment suggests a high level of engagement and resonance with the book's content, reinforcing its effectiveness and appeal among readers."
   ]
  },
  {
   "cell_type": "markdown",
   "id": "e7f5a674",
   "metadata": {},
   "source": [
    "# Conclusion\n",
    "In this project, I embarked on a thorough journey of sentiment analysis for customer reviews of \"Atomic Habits.\" Starting from importing essential libraries to classifying sentiment using both TextBlob and VADER Sentiment Analyzer methods, I meticulously navigated each step to derive meaningful insights. Through this process, I uncovered the remarkable positivity surrounding the book, reflecting its profound impact on readers. At least, I am really satisfied now that I digged into deeper and got to know most of the reviewers are thinking positive aboout the book. This project gave me confidence and the necessary skills to do further web scrapping and sentiment analysis. Probably, next time I will choose something where people have mixed reactions, so that the dataset would be more diverse and I can even more do some Feature Engineering and Machine Learning steps. Overall, the insights from this project should equip stakeholders with valuable guidance for strategic decision-making, emphasizing the importance of leveraging positive feedback and addressing potential areas for enhancement."
   ]
  }
 ],
 "metadata": {
  "kernelspec": {
   "display_name": "Python 3 (ipykernel)",
   "language": "python",
   "name": "python3"
  },
  "language_info": {
   "codemirror_mode": {
    "name": "ipython",
    "version": 3
   },
   "file_extension": ".py",
   "mimetype": "text/x-python",
   "name": "python",
   "nbconvert_exporter": "python",
   "pygments_lexer": "ipython3",
   "version": "3.9.13"
  }
 },
 "nbformat": 4,
 "nbformat_minor": 5
}
